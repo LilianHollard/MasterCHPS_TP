{
 "cells": [
  {
   "cell_type": "code",
   "execution_count": null,
   "id": "77895389",
   "metadata": {
    "vscode": {
     "languageId": "plaintext"
    }
   },
   "outputs": [],
   "source": [
    "import numpy as np\n",
    "import pandas as pd\n",
    "from matplotlib import pyplot as plt\n",
    "\n",
    "data = pd.read_csv(\"./digits/train.csv\")\n"
   ]
  },
  {
   "cell_type": "code",
   "execution_count": null,
   "id": "5c7ab7dd",
   "metadata": {
    "vscode": {
     "languageId": "plaintext"
    }
   },
   "outputs": [],
   "source": [
    "data = np.array(data)\n",
    "m, n = data.shape\n",
    "print(m,n)\n",
    "np.random.shuffle(data)\n",
    "\n",
    "data_test = data[0:1000].T\n",
    "Y_test = data_test[0]\n",
    "X_test = data_test[1:n]\n",
    "\n",
    "data_train = data[1000:m].T\n",
    "Y_train = data_train[0]\n",
    "X_train = data_train[1:n]\n",
    "X_train = X_train / 255.\n",
    "_, m_train = X_train.shape\n"
   ]
  },
  {
   "cell_type": "code",
   "execution_count": null,
   "id": "9ed607c4",
   "metadata": {
    "vscode": {
     "languageId": "plaintext"
    }
   },
   "outputs": [],
   "source": [
    "#Faire une fonction pour constuire tous les poids nécessaire\n",
    "#je rajoute -0.5 à chaque rand pour contruire les valeurs autour de -0.5 et 0.5 plutôt que 0 et 1.\n",
    "#ça permet simplement au réseau d'avoir des valeurs centré autour de 0 (plus simple pour ReLU aussi)\n",
    "\n",
    "#W1 -> 10 sortie\n",
    "#W2 -> 10 sortie (voir CM)\n",
    "def init_params():\n",
    "    #Wi = np.random.rand(..., ...) - 0.5\n",
    "    #bi = ...\n",
    "\n",
    "    return W1, b1, W2, b2\n",
    "    #return 2 poids, 2 biais"
   ]
  },
  {
   "cell_type": "code",
   "execution_count": null,
   "id": "2bf837fe",
   "metadata": {
    "vscode": {
     "languageId": "plaintext"
    }
   },
   "outputs": [],
   "source": [
    "#Coder ReLU \n",
    "def ReLU(Z):\n",
    "    #trouver fonction numpy qui pourrait faire ça, ou coder from scratch"
   ]
  },
  {
   "cell_type": "code",
   "execution_count": null,
   "id": "11536352",
   "metadata": {
    "vscode": {
     "languageId": "plaintext"
    }
   },
   "outputs": [],
   "source": [
    "#Coder softmax (ça, je vous le donne ;)\n",
    "def softmax(Z):\n",
    "    A = np.exp(Z) / sum(np.exp(Z))\n",
    "    return A"
   ]
  },
  {
   "cell_type": "code",
   "execution_count": null,
   "id": "f3b7e211",
   "metadata": {
    "vscode": {
     "languageId": "plaintext"
    }
   },
   "outputs": [],
   "source": [
    "#Implementer forward\n",
    "#attention aux dimensions !! Utilisez print(elment.shape) pour débuger \n",
    "#transposer : element.T\n",
    "#multiplication matricielle (produit scalaire) : utiliser \"@\" --> a@b\n",
    "def forward(W1, b1, W2, b2, X):\n",
    "    \n",
    "    return Z1, A1, Z2, A2\n",
    "    "
   ]
  },
  {
   "cell_type": "code",
   "execution_count": null,
   "id": "f1e6e454",
   "metadata": {
    "vscode": {
     "languageId": "plaintext"
    }
   },
   "outputs": [],
   "source": [
    "#test forward (si valeur NaN ou inf, c'est ok)\n",
    "forward(*init_params(), X_train)"
   ]
  },
  {
   "cell_type": "code",
   "execution_count": null,
   "id": "18c32461",
   "metadata": {
    "vscode": {
     "languageId": "plaintext"
    }
   },
   "outputs": [],
   "source": [
    "#vous n'avez pas besoin de modifier cette fonction.\n",
    "def one_hot(Y):\n",
    "    one_hot_Y = np.zeros((Y.size, Y.max() +1))\n",
    "    one_hot_Y[np.arange(Y.size), Y] = 1\n",
    "    one_hot_Y = one_hot_Y.T\n",
    "    return one_hot_Y\n"
   ]
  },
  {
   "cell_type": "code",
   "execution_count": null,
   "id": "072841b1",
   "metadata": {
    "vscode": {
     "languageId": "plaintext"
    }
   },
   "outputs": [],
   "source": [
    "#idem, je vous donne le backward ;)\n",
    "def ReLU_deriv(Z):\n",
    "    return Z > 0\n",
    "\n",
    "def backward(Z1, A1, Z2, A2, W1, W2, X, Y):\n",
    "    one_hot_Y = one_hot(Y)\n",
    "    dZ2 = A2 - one_hot(Y)\n",
    "    dW2 = 1/m * dZ2.dot(A1.T)\n",
    "    db2 = 1/m * np.sum(dZ2)\n",
    "    dZ1 = W2.T.dot(dZ2) * ReLU_deriv(Z1)\n",
    "    dW1 = 1 / m * dZ1.dot(X.T)\n",
    "    db1 = 1 / m * np.sum(dZ1)\n",
    "    return dW1, db1, dW2, db2\n"
   ]
  },
  {
   "cell_type": "code",
   "execution_count": null,
   "id": "6c27136e",
   "metadata": {
    "vscode": {
     "languageId": "plaintext"
    }
   },
   "outputs": [],
   "source": [
    "#a coder\n",
    "#un problème avec les dimensions ? c'est possible... n'oubliez pas de print pour débug \n",
    "#et tester un transpose avec .T :)\n",
    "#dW1, db1 .... voir fonction au dessus :) + voir CM\n",
    "def update_params(W1, b1, W2, b2, dW1, db1, dW2, db2, alpha):\n",
    "    W1 =\n",
    "    b1 = \n",
    "    W2 = \n",
    "    b2 = \n",
    "    return W1, b1, W2, b2"
   ]
  },
  {
   "cell_type": "code",
   "execution_count": null,
   "id": "26b2aacf",
   "metadata": {
    "vscode": {
     "languageId": "plaintext"
    }
   },
   "outputs": [],
   "source": [
    "def get_predictions(A2):\n",
    "    #TODO: Ecrire une fonction pour récupérer l'indice ayant la plus haute valeurs\n",
    "    return np.argmax(A2, 0)\n",
    "\n",
    "def get_accuracy(predictions, Y):\n",
    "    #TODO: Ecrire une fonction qui récupère le nombre total de prédiction correcte\n",
    "    #soit quand prediction == Y \n",
    "    print(predictions, Y)\n",
    "    return np.sum(predictions == Y) / Y.size\n",
    "\n",
    "def gradient_descent(X, Y, alpha, iterations):\n",
    "    #TODO: \n",
    "    \n",
    "    #1. init params\n",
    "    #2. boucler \n",
    "    #  2.1 forward pass\n",
    "    #  2.2 backward pass\n",
    "    #  2.3 update\n",
    "    #  2.4 faire un affichage un peu sympa de la prédiction / précision !\n",
    "    #aide : pour les variables, utilisez le nom de paramètre que j'ai mis sur les cellules du dessus. :)\n",
    "    #3. retourner les poids W1, b1, W2, b2\n",
    "\n",
    "    for i in range(iterations):\n",
    "        #forward pass\n",
    "        \n",
    "        #backward pass avec le label Y\n",
    "        \n",
    "        #update\n",
    "        \n",
    "        if i % 10 == 0:\n",
    "            print(\"Iteration: \", i)\n",
    "        \n",
    "    return W1,b1,W2,b2"
   ]
  },
  {
   "cell_type": "code",
   "execution_count": null,
   "id": "5f12ab18",
   "metadata": {
    "vscode": {
     "languageId": "plaintext"
    }
   },
   "outputs": [],
   "source": [
    "W1, b1, W2, b2 = gradient_descent(X_train, Y_train, 0.10, 500)"
   ]
  },
  {
   "cell_type": "code",
   "execution_count": null,
   "id": "33a607b6",
   "metadata": {
    "vscode": {
     "languageId": "plaintext"
    }
   },
   "outputs": [],
   "source": [
    "def make_predictions(X, W1, b1, W2, b2):\n",
    "    _, _, _, A2 = forward(W1, b1, W2, b2, X)\n",
    "    predictions = get_predictions(A2)\n",
    "    return predictions\n",
    "\n",
    "def test_prediction(index, W1, b1, W2, b2):\n",
    "    current_image = X_train[:, index, None]\n",
    "    prediction = make_predictions(X_train[:, index, None], W1, b1, W2, b2)\n",
    "    label = Y_train[index]\n",
    "    print(\"Prediction: \", prediction)\n",
    "    print(\"Label: \", label)\n",
    "    \n",
    "    current_image = current_image.reshape((28, 28)) * 255\n",
    "    plt.gray()\n",
    "    plt.imshow(current_image, interpolation='nearest')\n",
    "    plt.show()\n",
    "\n",
    "\n",
    "\n",
    "test_prediction(0, W1, b1, W2, b2)\n",
    "test_prediction(1, W1, b1, W2, b2)\n",
    "test_prediction(2, W1, b1, W2, b2)\n",
    "test_prediction(3, W1, b1, W2, b2)"
   ]
  }
 ],
 "metadata": {
  "language_info": {
   "name": "python"
  }
 },
 "nbformat": 4,
 "nbformat_minor": 5
}
